{
 "cells": [
  {
   "cell_type": "code",
   "execution_count": 14,
   "id": "b15ede38-5d58-4e12-9e93-69831310ad97",
   "metadata": {
    "tags": []
   },
   "outputs": [
    {
     "name": "stdout",
     "output_type": "stream",
     "text": [
      "True\n",
      "0\n"
     ]
    }
   ],
   "source": [
    "import torch\n",
    "print(torch.cuda.is_available())\n",
    "print(torch.cuda.current_device())\n",
    "import h5py\n",
    "from stellarperceptron.model import StellarPerceptron\n",
    "import numpy as np\n",
    "from datetime import datetime\n",
    "# !python training.py"
   ]
  },
  {
   "cell_type": "code",
   "execution_count": 41,
   "id": "732896fb-2bbb-4fcd-8c0e-14582e96cc2a",
   "metadata": {},
   "outputs": [
    {
     "name": "stdout",
     "output_type": "stream",
     "text": [
      "<KeysViewHDF5 ['2mass_designation', 'gaia_source_id', 'raw']>\n",
      "<HDF5 group \"/raw\" (24 members)>\n",
      "<KeysViewHDF5 ['bprp', 'bprp_err', 'g_fakemag', 'g_fakemag_err', 'jh', 'jh_err', 'jk', 'jk_err', 'logc19', 'logc19_err', 'logg', 'logg_err', 'm_h', 'm_h_err', 'parallax', 'parallax_err', 'phot_g_mean_mag', 'teff', 'teff_err', 'xp_coeffs', 'xp_coeffs_err', 'xp_coeffs_gnorm', 'xp_coeffs_gnorm_err', 'xp_relevancy']>\n",
      "------------------------------------------------------------\n",
      "(396718, 110)\n",
      "(396718,)\n",
      "(396718,)\n",
      "(396718,)\n",
      "(396718,)\n",
      "(396718,)\n",
      "(396718,)\n",
      "(396718,)\n",
      "(396718,)\n",
      "------------------------------------------------------------\n",
      "(396718, 118)\n",
      "(396718, 118)\n"
     ]
    }
   ],
   "source": [
    "with h5py.File(\"./data_files/training_set.h5\", mode=\"r\") as xp_apogee:\n",
    "    print(xp_apogee.keys())\n",
    "    print(xp_apogee['raw'])\n",
    "    print(xp_apogee['raw'].keys())\n",
    "    xp_relevancy = xp_apogee['raw']['xp_relevancy'][()]\n",
    "    xp_coeffs_gnorm = xp_apogee['raw']['xp_coeffs_gnorm'][()]\n",
    "    xp_coeffs_err_gnorm = xp_apogee['raw']['xp_coeffs_gnorm'][()]\n",
    "    # print(xp_relevancy.shape)\n",
    "    # print(xp_coeffs_gnorm.shape)\n",
    "    # print(xp_coeffs_err_gnorm.shape)\n",
    "    # print(\"---\"*20)\n",
    "    # print(xp_relevancy[:10,51:52])\n",
    "    # print(xp_relevancy[:10,52:55])\n",
    "    # print(\"---\"*20)\n",
    "    # print(~xp_relevancy[:10,51:52])\n",
    "    # print(~xp_relevancy[:10,52:55])\n",
    "    # print(xp_relevancy[:30,106:107])\n",
    "    # print(xp_relevancy[:30,107:110])\n",
    "    # print(\"---\"*20)\n",
    "    # print(xp_coeffs_gnorm[:30,51:52])\n",
    "    # print(xp_coeffs_gnorm[:30,52:55])\n",
    "    # print(xp_coeffs_gnorm[:30,106:107])\n",
    "    # print(xp_coeffs_gnorm[:30,107:110])\n",
    "    # print(\"---\"*20)\n",
    "    # print(xp_coeffs_err_gnorm[:30,51:52])\n",
    "    # print(xp_coeffs_err_gnorm[:30,52:55])\n",
    "    # print(xp_coeffs_err_gnorm[:30,106:107])\n",
    "    # print(xp_coeffs_err_gnorm[:30,107:110])\n",
    "    xp_relevancy[:,52:55] = xp_relevancy[:,51:52]\n",
    "    xp_relevancy[:,107:110] = xp_relevancy[:,106:107]\n",
    "    # print(xp_coeffs_gnorm[~xp_relevancy][:200])\n",
    "    # print(xp_coeffs_err_gnorm[~xp_relevancy][:200])\n",
    "    xp_coeffs_gnorm[~xp_relevancy] = np.nan\n",
    "    xp_coeffs_err_gnorm[~xp_relevancy] = np.nan\n",
    "    \n",
    "    print(\"---\"*20)\n",
    "    print(xp_coeffs_gnorm.shape)\n",
    "    print(xp_apogee['raw']['bprp'].shape)\n",
    "    print(xp_apogee['raw']['jh'].shape)\n",
    "    print(xp_apogee['raw']['jk'].shape)\n",
    "    print(xp_apogee['raw']['teff'].shape)\n",
    "    print(xp_apogee['raw']['logg'].shape)\n",
    "    print(xp_apogee['raw']['m_h'].shape)\n",
    "    print(xp_apogee['raw']['logc19'].shape)\n",
    "    print(xp_apogee['raw']['g_fakemag'].shape)\n",
    "    \n",
    "    print(\"---\"*20)\n",
    "    training_labels = np.column_stack(\n",
    "        [\n",
    "            xp_coeffs_gnorm,\n",
    "            xp_apogee['raw']['bprp'][()],\n",
    "            xp_apogee['raw']['jh'][()],\n",
    "            xp_apogee['raw']['jk'][()],\n",
    "            xp_apogee['raw']['teff'][()],\n",
    "            xp_apogee['raw']['logg'][()],\n",
    "            xp_apogee['raw']['m_h'][()],\n",
    "            xp_apogee['raw']['logc19'][()],\n",
    "            xp_apogee['raw']['g_fakemag'][()],\n",
    "        ]\n",
    "    )\n",
    "    print(training_labels.shape)\n",
    "    training_labels_err = np.column_stack(\n",
    "        [\n",
    "            xp_coeffs_gnorm,\n",
    "            xp_apogee['raw']['bprp_err'][()],\n",
    "            xp_apogee['raw']['jh_err'][()],\n",
    "            xp_apogee['raw']['jk_err'][()],\n",
    "            xp_apogee['raw']['teff_err'][()],\n",
    "            xp_apogee['raw']['logg_err'][()],\n",
    "            xp_apogee['raw']['m_h_err'][()],\n",
    "            xp_apogee['raw']['logc19_err'][()],\n",
    "            xp_apogee['raw']['g_fakemag_err'][()],\n",
    "        ]\n",
    "    )\n",
    "    print(training_labels_err.shape)\n",
    "    # print('-'*100)\n",
    "    # print(training_labels_err[:10,:3])\n",
    "    # print(np.isnan(training_labels_err)[:,0].sum())\n",
    "    training_labels_err = np.where(np.isnan(training_labels_err), 0.0, training_labels_err)\n",
    "    # print(training_labels_err[:10,:3])\n",
    "    # print(np.isnan(training_labels_err).sum())"
   ]
  },
  {
   "cell_type": "code",
   "execution_count": 42,
   "id": "27d7ab03-9fe9-4c3c-b85a-7cc0cda8701a",
   "metadata": {},
   "outputs": [],
   "source": [
    "# print([f\"bp{i}\" for i in range(55)])\n",
    "# print(*[f\"bp{i}\" for i in range(55)])\n",
    "obs_names = [\n",
    "    *[f\"bp{i}\" for i in range(55)],\n",
    "    *[f\"rp{i}\" for i in range(55)],\n",
    "    \"bprp\",\n",
    "    \"jh\",\n",
    "    \"jk\",\n",
    "    \"teff\",\n",
    "    \"logg\",\n",
    "    \"m_h\",\n",
    "    \"logebv\",\n",
    "    \"g_fakemag\",\n",
    "]"
   ]
  },
  {
   "cell_type": "code",
   "execution_count": 43,
   "id": "e248bad2-f4ec-45fc-ac55-c020ee1b4be6",
   "metadata": {
    "tags": []
   },
   "outputs": [
    {
     "name": "stdout",
     "output_type": "stream",
     "text": [
      "['bp0', 'bp1', 'bp2', 'bp3', 'bp4', 'bp5', 'bp6', 'bp7', 'bp8', 'bp9', 'bp10', 'bp11', 'bp12', 'bp13', 'bp14', 'bp15', 'bp16', 'bp17', 'bp18', 'bp19', 'bp20', 'bp21', 'bp22', 'bp23', 'bp24', 'bp25', 'bp26', 'bp27', 'bp28', 'bp29', 'bp30', 'bp31', 'bp32', 'bp33', 'bp34', 'bp35', 'bp36', 'bp37', 'bp38', 'bp39', 'bp40', 'bp41', 'bp42', 'bp43', 'bp44', 'bp45', 'bp46', 'bp47', 'bp48', 'bp49', 'bp50', 'bp51', 'bp52', 'bp53', 'bp54', 'rp0', 'rp1', 'rp2', 'rp3', 'rp4', 'rp5', 'rp6', 'rp7', 'rp8', 'rp9', 'rp10', 'rp11', 'rp12', 'rp13', 'rp14', 'rp15', 'rp16', 'rp17', 'rp18', 'rp19', 'rp20', 'rp21', 'rp22', 'rp23', 'rp24', 'rp25', 'rp26', 'rp27', 'rp28', 'rp29', 'rp30', 'rp31', 'rp32', 'rp33', 'rp34', 'rp35', 'rp36', 'rp37', 'rp38', 'rp39', 'rp40', 'rp41', 'rp42', 'rp43', 'rp44', 'rp45', 'rp46', 'rp47', 'rp48', 'rp49', 'rp50', 'rp51', 'rp52', 'rp53', 'rp54', 'bprp', 'jh', 'jk', 'teff', 'logg', 'm_h', 'logebv', 'g_fakemag']\n",
      "bp0 bp1 bp2 bp3 bp4 bp5 bp6 bp7 bp8 bp9 bp10 bp11 bp12 bp13 bp14 bp15 bp16 bp17 bp18 bp19 bp20 bp21 bp22 bp23 bp24 bp25 bp26 bp27 bp28 bp29 bp30 bp31 bp32 bp33 bp34 bp35 bp36 bp37 bp38 bp39 bp40 bp41 bp42 bp43 bp44 bp45 bp46 bp47 bp48 bp49 bp50 bp51 bp52 bp53 bp54 rp0 rp1 rp2 rp3 rp4 rp5 rp6 rp7 rp8 rp9 rp10 rp11 rp12 rp13 rp14 rp15 rp16 rp17 rp18 rp19 rp20 rp21 rp22 rp23 rp24 rp25 rp26 rp27 rp28 rp29 rp30 rp31 rp32 rp33 rp34 rp35 rp36 rp37 rp38 rp39 rp40 rp41 rp42 rp43 rp44 rp45 rp46 rp47 rp48 rp49 rp50 rp51 rp52 rp53 rp54 bprp jh jk teff logg m_h logebv g_fakemag\n"
     ]
    }
   ],
   "source": [
    "print(obs_names)\n",
    "print(*obs_names)"
   ]
  },
  {
   "cell_type": "code",
   "execution_count": 45,
   "id": "6d01fa10-8683-45a9-a882-c66b5e0eff19",
   "metadata": {
    "tags": []
   },
   "outputs": [
    {
     "name": "stdout",
     "output_type": "stream",
     "text": [
      "./model-28231628\n"
     ]
    }
   ],
   "source": [
    "now = datetime.now().strftime(\"%d%H%M%S\")\n",
    "# print(now)\n",
    "device = 'cuda'\n",
    "mixed_precision = True\n",
    "torch.backends.cuda.matmul.allow_tf32 = True\n",
    "torch.backends.cudnn.allow_tf32 = True\n",
    "\n",
    "context_length = 64\n",
    "embedding_dim = 128\n",
    "\n",
    "learning_rate = 1e-4\n",
    "learning_rate_min = 1e-10\n",
    "batch_size = 1024\n",
    "epochs = 4096\n",
    "cosine_annealing_t0 = 512\n",
    "checkpoint_every_n_epochs = 128\n",
    "save_model_to_folder = f\"./model-{now}\"\n",
    "print(save_model_to_folder)\n",
    "\n",
    "nn_model = StellarPerceptron(\n",
    "    vocabs = obs_names,\n",
    "    context_length = context_length,\n",
    "    embedding_dim = embedding_dim,\n",
    "    embedding_activation = \"gelu\",\n",
    "    encoder_head_num = 16,\n",
    "    encoder_dense_num = 1024,\n",
    "    encoder_dropout_rate = 0.1,\n",
    "    encoder_activation = \"gelu\",\n",
    "    decoder_head_num = 16,\n",
    "    decoder_dense_num = 3096,\n",
    "    decoder_dropout_rate = 0.1,\n",
    "    decoder_activation = \"gelu\",\n",
    "    device = device,\n",
    "    mixed_precision = mixed_precision,\n",
    "    folder=save_model_to_folder,\n",
    ")\n",
    "\n",
    "nn_model.optimizer = torch.optim.AdamW(\n",
    "    nn_model.torch_model.parameters(), lr=learning_rate\n",
    ")"
   ]
  },
  {
   "cell_type": "code",
   "execution_count": null,
   "id": "ee5bca08-006f-45bf-830e-782e6de71059",
   "metadata": {},
   "outputs": [],
   "source": []
  },
  {
   "cell_type": "code",
   "execution_count": null,
   "id": "a0ba891d-ddda-4c3e-8561-7b5d31861071",
   "metadata": {},
   "outputs": [],
   "source": []
  },
  {
   "cell_type": "code",
   "execution_count": null,
   "id": "0ec74b8d-fe15-4833-b58c-f0d1433c34f0",
   "metadata": {},
   "outputs": [],
   "source": []
  }
 ],
 "metadata": {
  "kernelspec": {
   "display_name": "pytorch-2.3.1",
   "language": "python",
   "name": "pytorch-2.3.1"
  },
  "language_info": {
   "codemirror_mode": {
    "name": "ipython",
    "version": 3
   },
   "file_extension": ".py",
   "mimetype": "text/x-python",
   "name": "python",
   "nbconvert_exporter": "python",
   "pygments_lexer": "ipython3",
   "version": "3.11.9"
  }
 },
 "nbformat": 4,
 "nbformat_minor": 5
}
